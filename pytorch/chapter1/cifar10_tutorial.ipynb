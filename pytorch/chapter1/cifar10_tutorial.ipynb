{
 "cells": [
  {
   "cell_type": "code",
   "execution_count": 1,
   "id": "26696876",
   "metadata": {},
   "outputs": [],
   "source": [
    "import torch\n",
    "import torchvision\n",
    "import torchvision.transforms as transforms"
   ]
  },
  {
   "cell_type": "code",
   "execution_count": 2,
   "id": "1b53315b",
   "metadata": {},
   "outputs": [],
   "source": [
    "'''\n",
    "ToTensor() 将图像转换为张量\n",
    "Normalize()将图像标准化（-1，1） output[channel] = (input[channel] - mean[channel]) / std[channel]\n",
    "'''\n",
    "transform = transforms.Compose([\n",
    "    transforms.ToTensor(),\n",
    "    transforms.Normalize(std=(0.5, 0.5, 0.5), mean=(0.5, 0.5, 0.5))\n",
    "])"
   ]
  },
  {
   "cell_type": "code",
   "execution_count": 3,
   "id": "310f135f",
   "metadata": {},
   "outputs": [
    {
     "name": "stdout",
     "output_type": "stream",
     "text": [
      "Files already downloaded and verified\n"
     ]
    }
   ],
   "source": [
    "trainset = torchvision.datasets.CIFAR10(\n",
    "    root='../../resources/data/', \n",
    "    train=True, \n",
    "    transform=transform, \n",
    "    download=True\n",
    ")"
   ]
  },
  {
   "cell_type": "code",
   "execution_count": 4,
   "id": "bc54bc1b",
   "metadata": {},
   "outputs": [],
   "source": [
    "trainloader = torch.utils.data.DataLoader(\n",
    "    trainset, \n",
    "    batch_size=4, \n",
    "    shuffle=True, \n",
    "    num_workers=4\n",
    ")"
   ]
  },
  {
   "cell_type": "code",
   "execution_count": 5,
   "id": "e6724ce8",
   "metadata": {},
   "outputs": [
    {
     "name": "stdout",
     "output_type": "stream",
     "text": [
      "Files already downloaded and verified\n"
     ]
    }
   ],
   "source": [
    "testset = torchvision.datasets.CIFAR10(\n",
    "    root='../../resources/data/',\n",
    "    train=False,\n",
    "    transform=transform,\n",
    "    download=True\n",
    ")"
   ]
  },
  {
   "cell_type": "code",
   "execution_count": 6,
   "id": "7d0f2227",
   "metadata": {},
   "outputs": [],
   "source": [
    "testlodaer = torch.utils.data.DataLoader(\n",
    "    testset,\n",
    "    batch_size=4,\n",
    "    shuffle=False,\n",
    "    num_workers=4\n",
    ")"
   ]
  },
  {
   "cell_type": "code",
   "execution_count": 7,
   "id": "952d3bdb",
   "metadata": {},
   "outputs": [],
   "source": [
    "classes = ('plane', 'car', 'bird', 'cat', 'deer', 'dog', 'frog', 'horse', 'ship', 'truck')"
   ]
  },
  {
   "cell_type": "code",
   "execution_count": 8,
   "id": "e1b16ae7",
   "metadata": {},
   "outputs": [],
   "source": [
    "import matplotlib.pyplot as plt\n",
    "import numpy as np"
   ]
  },
  {
   "cell_type": "code",
   "execution_count": 9,
   "id": "5796b5db",
   "metadata": {},
   "outputs": [],
   "source": [
    "def imshow(img):\n",
    "    img = img / 2 + 0.5 # 反归一化 (-1, 1) -> (0, 1)\n",
    "    npimg = img.numpy()\n",
    "    plt.imshow(np.transpose(npimg, (1, 2, 0))) # plt的输出格式为(size, size, channel)"
   ]
  },
  {
   "cell_type": "code",
   "execution_count": 10,
   "id": "b07ac10c",
   "metadata": {},
   "outputs": [
    {
     "name": "stdout",
     "output_type": "stream",
     "text": [
      "  cat truck   cat  frog\n"
     ]
    },
    {
     "data": {
      "image/png": "[encoded data removed]",
      "text/plain": [
       "<Figure size 640x480 with 1 Axes>"
      ]
     },
     "metadata": {},
     "output_type": "display_data"
    }
   ],
   "source": [
    "dataiter = iter(trainloader)\n",
    "imgs, labels = next(dataiter)\n",
    "imshow(torchvision.utils.make_grid(imgs))\n",
    "print(' '.join('%5s' % classes[labels[j]] for j in range(4)))"
   ]
  },
  {
   "cell_type": "code",
   "execution_count": 11,
   "id": "27d25de8",
   "metadata": {},
   "outputs": [],
   "source": [
    "# 定义神经网络\n",
    "import torch.nn as nn\n",
    "import torch.nn.functional as F"
   ]
  },
  {
   "cell_type": "code",
   "execution_count": 12,
   "id": "31fed168",
   "metadata": {},
   "outputs": [],
   "source": [
    "class Net(nn.Module):\n",
    "    def __init__(self):\n",
    "        super(Net, self).__init__()\n",
    "        self.conv1 = nn.Conv2d(3, 6, 5)\n",
    "        self.pool = nn.MaxPool2d(2, 2)\n",
    "        self.conv2 = nn.Conv2d(6, 16, 5)\n",
    "        self.fc1 = nn.Linear(16*5*5, 120)\n",
    "        self.fc2 = nn.Linear(120, 84)\n",
    "        self.fc3 = nn.Linear(84, 10)\n",
    "    \n",
    "    def forward(self, x):\n",
    "        x = self.pool(F.relu(self.conv1(x)))\n",
    "        x = self.pool(F.relu(self.conv2(x)))\n",
    "        x = x.view(-1, 16*5*5)\n",
    "        x = F.relu(self.fc1(x))\n",
    "        x = F.relu(self.fc2(x))\n",
    "        x = self.fc3(x)\n",
    "        return x"
   ]
  },
  {
   "cell_type": "code",
   "execution_count": 13,
   "id": "390d20e7",
   "metadata": {},
   "outputs": [],
   "source": [
    "net = Net()"
   ]
  },
  {
   "cell_type": "code",
   "execution_count": 14,
   "id": "fc52123a",
   "metadata": {},
   "outputs": [],
   "source": [
    "# 定义损失函数和优化器\n",
    "import torch.optim as optim"
   ]
  },
  {
   "cell_type": "code",
   "execution_count": 15,
   "id": "f7eaabfc",
   "metadata": {},
   "outputs": [],
   "source": [
    "criterion = nn.CrossEntropyLoss() # 使用交叉熵作为损失函数"
   ]
  },
  {
   "cell_type": "code",
   "execution_count": 16,
   "id": "7e2a2a3e",
   "metadata": {},
   "outputs": [],
   "source": [
    "# 使用带动量的随机梯度下降做优化器\n",
    "optimizer = optim.SGD(params=net.parameters(), lr=0.001, momentum=0.9) \n",
    "device = torch.device('cuda:0' if torch.cuda.is_available() else 'cup')"
   ]
  },
  {
   "cell_type": "code",
   "execution_count": 17,
   "id": "aa4b6507",
   "metadata": {},
   "outputs": [
    {
     "name": "stdout",
     "output_type": "stream",
     "text": [
      "[1  2000] loss: 2.146\n",
      "[1  4000] loss: 1.778\n",
      "[1  6000] loss: 1.636\n",
      "[1  8000] loss: 1.570\n",
      "[1 10000] loss: 1.503\n",
      "[1 12000] loss: 1.453\n",
      "[2  2000] loss: 1.379\n",
      "[2  4000] loss: 1.346\n",
      "[2  6000] loss: 1.331\n",
      "[2  8000] loss: 1.307\n",
      "[2 10000] loss: 1.278\n",
      "[2 12000] loss: 1.272\n",
      "-------------FINISHED TRAINING---------------\n"
     ]
    }
   ],
   "source": [
    "# 训练网络\n",
    "for epoch in range(2):\n",
    "    running_loss = 0.0\n",
    "    for i, data in enumerate(trainloader, 0):\n",
    "        inputs, labels = data\n",
    "        optimizer.zero_grad()  # 梯度置零\n",
    "        outputs = net(inputs)\n",
    "        loss = criterion(outputs, labels)\n",
    "        loss.backward()\n",
    "        optimizer.step()\n",
    "        \n",
    "        # 打印训练状态\n",
    "        running_loss += loss.item()\n",
    "        if i % 2000 == 1999:\n",
    "            print('[%d %5d] loss: %.3f' % (epoch+1, i+1, running_loss/2000))\n",
    "            running_loss = 0.0\n",
    "print('-------------FINISHED TRAINING---------------')"
   ]
  },
  {
   "cell_type": "code",
   "execution_count": 18,
   "id": "d2bff801",
   "metadata": {},
   "outputs": [
    {
     "name": "stdout",
     "output_type": "stream",
     "text": [
      "GroundTruth:   cat  ship  ship plane\n"
     ]
    },
    {
     "data": {
      "image/png": "[encoded data removed]",
      "text/plain": [
       "<Figure size 640x480 with 1 Axes>"
      ]
     },
     "metadata": {},
     "output_type": "display_data"
    }
   ],
   "source": [
    "dataiter = iter(testlodaer)\n",
    "imgs, labels = next(dataiter)\n",
    "imshow(torchvision.utils.make_grid(imgs))\n",
    "print('GroundTruth:', ' '.join('%5s' % classes[labels[j]] for j in range(4)))"
   ]
  },
  {
   "cell_type": "code",
   "execution_count": 19,
   "id": "aa15b6e4",
   "metadata": {},
   "outputs": [],
   "source": [
    "outputs = net(imgs)"
   ]
  },
  {
   "cell_type": "code",
   "execution_count": 20,
   "id": "8a8da09d",
   "metadata": {},
   "outputs": [
    {
     "name": "stdout",
     "output_type": "stream",
     "text": [
      "Predicted:   cat  ship  ship plane\n"
     ]
    }
   ],
   "source": [
    "'''\n",
    "values=tensor([2.7955, 7.1851, 3.4679, 5.1072], grad_fn=<MaxBackward0>),\n",
    "indices=tensor([3, 1, 1, 0]))\n",
    "max返回两个值， 第一个为每一行的最大值， 第二个为索引\n",
    "'''\n",
    "_, predicted = torch.max(outputs, dim=1)\n",
    "print('Predicted:', ' '.join('%5s' % classes[labels[j]] for j in range(4)))"
   ]
  },
  {
   "cell_type": "code",
   "execution_count": 21,
   "id": "8fe8787b",
   "metadata": {},
   "outputs": [
    {
     "name": "stdout",
     "output_type": "stream",
     "text": [
      "Accuracy of the network on the testset: 55 %\n"
     ]
    }
   ],
   "source": [
    "# 查看在测试集上的预测结果\n",
    "correct = 0\n",
    "total = 0\n",
    "with torch.no_grad():\n",
    "    for data in testlodaer:\n",
    "        imgs, labels = data\n",
    "        outputs = net(imgs)\n",
    "        _, predicted = torch.max(outputs, dim=1)\n",
    "        total += labels.size(dim=0)\n",
    "        correct += (predicted == labels).sum().item()\n",
    "print('Accuracy of the network on the testset: %d %%' % (100 * correct / total))"
   ]
  },
  {
   "cell_type": "code",
   "execution_count": 22,
   "id": "1ecc61cd",
   "metadata": {},
   "outputs": [
    {
     "name": "stdout",
     "output_type": "stream",
     "text": [
      "Accuracy of plane : 53 %\n",
      "Accuracy of   car : 73 %\n",
      "Accuracy of  bird : 42 %\n",
      "Accuracy of   cat : 25 %\n",
      "Accuracy of  deer : 47 %\n",
      "Accuracy of   dog : 47 %\n",
      "Accuracy of  frog : 83 %\n",
      "Accuracy of horse : 55 %\n",
      "Accuracy of  ship : 78 %\n",
      "Accuracy of truck : 46 %\n"
     ]
    }
   ],
   "source": [
    "# 查看在每个类上的预测效果\n",
    "class_correct = list(0. for i in range(10))\n",
    "class_total = list(0. for i in range(10))\n",
    "\n",
    "with torch.no_grad():\n",
    "    for data in testlodaer:\n",
    "        imgs, labels = data\n",
    "        outputs = net(imgs)\n",
    "        _, predicted = torch.max(outputs, dim=1)\n",
    "        c = (predicted == labels).squeeze()\n",
    "        for i in range(4):\n",
    "            label = labels[i]\n",
    "            class_correct[label] += c[i].item()\n",
    "            class_total[label] += 1\n",
    "\n",
    "for i in range(10):\n",
    "    print('Accuracy of %5s : %2d %%' %(classes[i], class_correct[i] / class_total[i] * 100))"
   ]
  },
  {
   "cell_type": "code",
   "execution_count": 29,
   "id": "53af8209",
   "metadata": {},
   "outputs": [
    {
     "name": "stdout",
     "output_type": "stream",
     "text": [
      "cuda\n"
     ]
    }
   ],
   "source": [
    "device = torch.device('cuda' if torch.cuda.is_available() else 'cup')\n",
    "print(device)"
   ]
  },
  {
   "cell_type": "code",
   "execution_count": null,
   "id": "46dd301d",
   "metadata": {},
   "outputs": [],
   "source": []
  }
 ],
 "metadata": {
  "kernelspec": {
   "display_name": "Python 3 (ipykernel)",
   "language": "python",
   "name": "python3"
  },
  "language_info": {
   "codemirror_mode": {
    "name": "ipython",
    "version": 3
   },
   "file_extension": ".py",
   "mimetype": "text/x-python",
   "name": "python",
   "nbconvert_exporter": "python",
   "pygments_lexer": "ipython3",
   "version": "3.8.16"
  }
 },
 "nbformat": 4,
 "nbformat_minor": 5
}

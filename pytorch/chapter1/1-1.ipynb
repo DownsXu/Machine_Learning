{
 "cells": [
  {
   "cell_type": "code",
   "execution_count": 2,
   "id": "f5982e89",
   "metadata": {},
   "outputs": [],
   "source": [
    "import torch\n",
    "import numpy as np"
   ]
  },
  {
   "cell_type": "code",
   "execution_count": 3,
   "id": "e4eb6396",
   "metadata": {},
   "outputs": [
    {
     "data": {
      "text/plain": [
       "tensor([[4.3351e-08, 1.6997e-04, 1.0314e-08, 1.2540e+16, 2.1707e-18],\n",
       "        [7.0952e+22, 1.7748e+28, 1.8176e+31, 7.2708e+31, 5.0778e+31],\n",
       "        [3.2608e-12, 1.7728e+28, 7.0367e+22, 2.1715e-18, 1.3400e-08],\n",
       "        [3.3856e-06, 2.1373e+20, 2.1271e+23, 7.9878e+20, 1.2973e-11],\n",
       "        [5.3735e-05, 1.3400e-08, 5.2901e-08, 2.1707e-18, 7.1450e+31]])"
      ]
     },
     "execution_count": 3,
     "metadata": {},
     "output_type": "execute_result"
    }
   ],
   "source": [
    "x = torch.empty(5, 5)\n",
    "x"
   ]
  },
  {
   "cell_type": "code",
   "execution_count": 4,
   "id": "a359e000",
   "metadata": {},
   "outputs": [
    {
     "data": {
      "text/plain": [
       "tensor([[0.4604, 0.0233, 0.5278, 0.3482, 0.2400],\n",
       "        [0.3619, 0.1914, 0.5839, 0.6615, 0.1465],\n",
       "        [0.2711, 0.5724, 0.9730, 0.6013, 0.1160],\n",
       "        [0.9451, 0.6244, 0.9921, 0.9318, 0.4490],\n",
       "        [0.8649, 0.1638, 0.0423, 0.5046, 0.2163]])"
      ]
     },
     "execution_count": 4,
     "metadata": {},
     "output_type": "execute_result"
    }
   ],
   "source": [
    "x = torch.rand(5, 5)\n",
    "x"
   ]
  },
  {
   "cell_type": "code",
   "execution_count": 5,
   "id": "2d536245",
   "metadata": {},
   "outputs": [],
   "source": [
    "x = torch.zeros(3, 3)"
   ]
  },
  {
   "cell_type": "code",
   "execution_count": 6,
   "id": "2803b59c",
   "metadata": {},
   "outputs": [
    {
     "data": {
      "text/plain": [
       "tensor([[0., 0., 0.],\n",
       "        [0., 0., 0.],\n",
       "        [0., 0., 0.]])"
      ]
     },
     "execution_count": 6,
     "metadata": {},
     "output_type": "execute_result"
    }
   ],
   "source": [
    "x"
   ]
  },
  {
   "cell_type": "code",
   "execution_count": 7,
   "id": "6db8ac3c",
   "metadata": {},
   "outputs": [
    {
     "data": {
      "text/plain": [
       "tensor([[2, 3],\n",
       "        [4, 6]])"
      ]
     },
     "execution_count": 7,
     "metadata": {},
     "output_type": "execute_result"
    }
   ],
   "source": [
    "x = torch.tensor([[2, 3], [4, 6]])\n",
    "x"
   ]
  },
  {
   "cell_type": "code",
   "execution_count": 8,
   "id": "f9c0c5ad",
   "metadata": {},
   "outputs": [
    {
     "data": {
      "text/plain": [
       "tensor([[1., 1., 1.],\n",
       "        [1., 1., 1.],\n",
       "        [1., 1., 1.]], dtype=torch.float64)"
      ]
     },
     "execution_count": 8,
     "metadata": {},
     "output_type": "execute_result"
    }
   ],
   "source": [
    "x = x.new_ones(3, 3, dtype=torch.double)\n",
    "x"
   ]
  },
  {
   "cell_type": "code",
   "execution_count": 11,
   "id": "1e239f98",
   "metadata": {},
   "outputs": [],
   "source": [
    "x = torch.rand_like(x, dtype=torch.float)"
   ]
  },
  {
   "cell_type": "code",
   "execution_count": 12,
   "id": "0e6284f9",
   "metadata": {},
   "outputs": [
    {
     "data": {
      "text/plain": [
       "tensor([[0.4927, 0.1680, 0.7057],\n",
       "        [0.4000, 0.0544, 0.3207],\n",
       "        [0.2034, 0.4381, 0.5619]])"
      ]
     },
     "execution_count": 12,
     "metadata": {},
     "output_type": "execute_result"
    }
   ],
   "source": [
    "x"
   ]
  },
  {
   "cell_type": "code",
   "execution_count": 13,
   "id": "c92b844f",
   "metadata": {},
   "outputs": [
    {
     "data": {
      "text/plain": [
       "tensor([[0.2743, 0.4382, 0.8881],\n",
       "        [0.0230, 0.1015, 0.2239],\n",
       "        [0.5935, 0.3805, 0.6200],\n",
       "        [0.4474, 0.8805, 0.2937],\n",
       "        [0.2479, 0.3019, 0.6622]])"
      ]
     },
     "execution_count": 13,
     "metadata": {},
     "output_type": "execute_result"
    }
   ],
   "source": [
    "a = torch.rand(5, 3)\n",
    "b = torch.rand(5, 3)\n",
    "a\n",
    "b"
   ]
  },
  {
   "cell_type": "code",
   "execution_count": 14,
   "id": "07eb3877",
   "metadata": {},
   "outputs": [
    {
     "data": {
      "text/plain": [
       "tensor([[0.2655, 0.4651, 0.5002],\n",
       "        [0.1471, 0.9031, 0.4444],\n",
       "        [0.5370, 0.1642, 0.4473],\n",
       "        [0.8176, 0.0426, 0.0946],\n",
       "        [0.8168, 0.2644, 0.3252]])"
      ]
     },
     "execution_count": 14,
     "metadata": {},
     "output_type": "execute_result"
    }
   ],
   "source": [
    "a"
   ]
  },
  {
   "cell_type": "code",
   "execution_count": 15,
   "id": "6f716ddc",
   "metadata": {},
   "outputs": [
    {
     "data": {
      "text/plain": [
       "tensor([[0.2743, 0.4382, 0.8881],\n",
       "        [0.0230, 0.1015, 0.2239],\n",
       "        [0.5935, 0.3805, 0.6200],\n",
       "        [0.4474, 0.8805, 0.2937],\n",
       "        [0.2479, 0.3019, 0.6622]])"
      ]
     },
     "execution_count": 15,
     "metadata": {},
     "output_type": "execute_result"
    }
   ],
   "source": [
    "b"
   ]
  },
  {
   "cell_type": "code",
   "execution_count": 16,
   "id": "ff3a8b6f",
   "metadata": {},
   "outputs": [
    {
     "data": {
      "text/plain": [
       "tensor([[-1.7654, -2.2687, -0.0668, -0.8355],\n",
       "        [-0.5586,  0.6499,  0.9137, -0.0099],\n",
       "        [-0.0486,  1.1111, -1.3160, -1.2254],\n",
       "        [-1.1099, -0.8538, -0.8566, -2.5870]])"
      ]
     },
     "execution_count": 16,
     "metadata": {},
     "output_type": "execute_result"
    }
   ],
   "source": [
    "x = torch.randn(4, 4)\n",
    "x"
   ]
  },
  {
   "cell_type": "code",
   "execution_count": 17,
   "id": "273484bb",
   "metadata": {},
   "outputs": [],
   "source": [
    "x = x.view(16)"
   ]
  },
  {
   "cell_type": "code",
   "execution_count": 18,
   "id": "9f87f72f",
   "metadata": {},
   "outputs": [
    {
     "data": {
      "text/plain": [
       "tensor([-1.7654, -2.2687, -0.0668, -0.8355, -0.5586,  0.6499,  0.9137, -0.0099,\n",
       "        -0.0486,  1.1111, -1.3160, -1.2254, -1.1099, -0.8538, -0.8566, -2.5870])"
      ]
     },
     "execution_count": 18,
     "metadata": {},
     "output_type": "execute_result"
    }
   ],
   "source": [
    "x"
   ]
  },
  {
   "cell_type": "code",
   "execution_count": 19,
   "id": "78ca961a",
   "metadata": {},
   "outputs": [],
   "source": [
    "x = torch.ones(3)"
   ]
  },
  {
   "cell_type": "code",
   "execution_count": 20,
   "id": "c8946187",
   "metadata": {},
   "outputs": [
    {
     "data": {
      "text/plain": [
       "tensor([1., 1., 1.])"
      ]
     },
     "execution_count": 20,
     "metadata": {},
     "output_type": "execute_result"
    }
   ],
   "source": [
    "x"
   ]
  },
  {
   "cell_type": "code",
   "execution_count": null,
   "id": "50d9a1bb",
   "metadata": {},
   "outputs": [],
   "source": []
  }
 ],
 "metadata": {
  "kernelspec": {
   "display_name": "Python 3 (ipykernel)",
   "language": "python",
   "name": "python3"
  },
  "language_info": {
   "codemirror_mode": {
    "name": "ipython",
    "version": 3
   },
   "file_extension": ".py",
   "mimetype": "text/x-python",
   "name": "python",
   "nbconvert_exporter": "python",
   "pygments_lexer": "ipython3",
   "version": "3.8.16"
  }
 },
 "nbformat": 4,
 "nbformat_minor": 5
}
